{
 "cells": [
  {
   "cell_type": "markdown",
   "metadata": {
    "id": "4be62f6a-4776-4dc9-b6db-9673f06bc388"
   },
   "source": [
    "# TechXchange 2025 Lab\n",
    "### IBM SDE Troubleshooting AI Agent\n",
    "An **AI Agent** refers to a system or program that is capable completing a request by first planning the sequence of workflow steps and then performing the tasks in the steps by utilizing available tools. AI agents utilizes large language models (LLM) to understand the context of the request, plan and perform the tasks. \n",
    "\n",
    "This Python notebook provides code to create a simple AI agent designed to debug operational issues in a file processing scenario within the IBM Sterling FileGateway environment. It leverages a LangGraph graph for state management and runtime processing.\n",
    "\n",
    "Once the agent is created, you assume the role of an operations specialist at an organization and interact with the IBM SDE Troubleshooting AI Agent using natural language questions. The agent helps identify root causes, resolve issues, and reprocess failed files.\n",
    "\n",
    "When a question is asked, the AI agent uses a large language model (LLM) to understand the context, determine the sequence of required steps, and execute them using available tools. These tools include fetching the arrived key, retrieving error descriptions, updating code lists, and reprocessing failed files. The full sequence—including step execution, tool usage, and final response—is displayed in the output for review.\n",
    "\n",
    "#### To use this Notebook:\n",
    "\n",
    "Run each cell below one by one and make sure it completes successfully.\n",
    "\n",
    "When prompted for API key enter it in the box and hit Enter and then continue running the cells to initialize the code.\n",
    "\n",
    "Finally, when prompted enter your query and run the subsequent cells. Some example questions are provided.\n",
    "\n",
    "You may run/repeat the query cells by entering and trying different queries."
   ]
  },
  {
   "cell_type": "markdown",
   "metadata": {
    "id": "609b3c27-f6dc-4daf-8101-7a3b38791717"
   },
   "source": [
    "#### Lab Exercise\n",
    "Below is an outline of the code. The code is set up in Python Notebook cells.\n",
    "\n",
    "1. Set up required libraries\n",
    "2. Define functions to get and check credentials\n",
    "3. Define tools that the AI agent can use\n",
    "4. Configure the LLM\n",
    "5. Define the LangGraph graph and functions for state and runtime processing.\n",
    "6. Show a visual representation the graph - the AI agent with tools\n",
    "7. Use the AI agent - ask the AI agent file related questions\n",
    "8. Review the responses from AI agent\n"
   ]
  },
  {
   "cell_type": "markdown",
   "metadata": {
    "id": "1f742f2c-386c-4094-874a-9be788685811"
   },
   "source": [
    "#### 1. Set up required libraries"
   ]
  },
  {
   "cell_type": "code",
   "execution_count": null,
   "metadata": {
    "id": "ac1bb4df-737d-45fb-9e14-6bdc75bad441",
    "scrolled": true
   },
   "outputs": [],
   "source": [
    "# Set up libraries\n",
    "%pip install langgraph==0.2.73\n",
    "%pip install -U langchain-ibm==0.3.6\n",
    "    \n",
    "from typing import Annotated, Literal, TypedDict\n",
    "\n",
    "from langchain_core.messages import HumanMessage\n",
    "\n",
    "from langchain_core.tools import tool\n",
    "from langgraph.checkpoint.memory import MemorySaver\n",
    "from langgraph.graph import END, START, StateGraph, MessagesState\n",
    "from langgraph.prebuilt import ToolNode\n",
    "\n",
    "import requests\n",
    "import json\n",
    "import time\n",
    "import random\n",
    "\n",
    "import requests\n",
    "import urllib3\n",
    "\n",
    "import xml.etree.ElementTree as ET\n",
    "from collections import defaultdict"
   ]
  },
  {
   "cell_type": "markdown",
   "metadata": {
    "id": "c376e0e3-76f0-4079-b382-995410034157"
   },
   "source": [
    "#### 2. Define functions to get and check credentials"
   ]
  },
  {
   "cell_type": "code",
   "execution_count": null,
   "metadata": {
    "id": "52a152ce-7efd-45f2-b5df-4ce5ea5efab7"
   },
   "outputs": [],
   "source": [
    "# Function to get credentials\n",
    "import getpass\n",
    "import os\n",
    "\n",
    "def _set_if_undefined(var: str):\n",
    "    if not os.environ.get(var):\n",
    "        os.environ[var] = getpass.getpass(f\"Please provide your {var}\")\n",
    "\n",
    "# Get credentials\n",
    "# Set the Project IDs\n",
    "# If using you own account, or lab account and project, the current project id will be configured and set automtically\n",
    "_set_if_undefined(\"PROJECT_ID\")\n",
    "\n",
    "# When prompted for API key enter it in the box and hit Enter, move to next cell and then continue running the cells\n",
    "_set_if_undefined(\"WATSONX_API_KEY\")\n"
   ]
  },
  {
   "cell_type": "code",
   "execution_count": null,
   "metadata": {
    "id": "069d3ba7-2788-4f3d-9083-df43c0495ff8"
   },
   "outputs": [],
   "source": [
    "# Print credential configurations for validation\n",
    "print('Api key:',os.environ.get(\"WATSONX_API_KEY\"))\n",
    "print('Project id:',os.environ.get(\"PROJECT_ID\"))"
   ]
  },
  {
   "cell_type": "markdown",
   "metadata": {
    "id": "eb45e773-d3c9-42ca-b349-d062d808e596"
   },
   "source": [
    "#### 3. Define tools that the AI agent can use"
   ]
  },
  {
   "cell_type": "code",
   "execution_count": null,
   "metadata": {
    "id": "4aaf0378-a97b-4774-bc8d-855f75c9e3f9"
   },
   "outputs": [],
   "source": [
    "# Define tools that the AI agent can use\n",
    "\n",
    "# The arrived key of the files is determined based on the producer name using the get_arrived_key() tool.\n",
    "# When a natural language question is asked, the AI agent first determines the context and then the sequence to utilize one or more tools to provide a response \n",
    "\n",
    "# this tool fetches producer name, arrived key, and state of a file\n",
    "@tool\n",
    "def get_arrived_key(producer_name: str) -> str: \n",
    "    \"\"\"Use this function to get the arrived key of files for the partner. Producer's name can be used instead of partner.\n",
    "    \n",
    "    After task execution, this method ensures that the agent requests or suggests a follow-up task, maintaining a continuous interaction or workflow chain.    \n",
    "    \"\"\"    \n",
    "\n",
    "    # Disable insecure request warning\n",
    "    urllib3.disable_warnings(urllib3.exceptions.InsecureRequestWarning)\n",
    "    \n",
    "    # Define the URL (GET request to list fgarrivedfiles)\n",
    "    url = f\"https://HOSTNAME/B2BAPIs/svc/fgarrivedfiles/\"\n",
    "\n",
    "    # Base64-encoded credentials\n",
    "    auth_header = \"Basic YXBpdXNlcjpQYXNzd29yZEAxMjM=\"\n",
    "    \n",
    "    # Set headers\n",
    "    headers = {\n",
    "        \"Content-Type\": \"application/json\",\n",
    "        \"Accept\": \"application/json\",\n",
    "        \"Authorization\": auth_header\n",
    "    }\n",
    "    \n",
    "    # Initialize variable before the request\n",
    "    arrivedFileKey = None\n",
    "    \n",
    "    try:\n",
    "        response = requests.get(url, headers=headers, verify=False)\n",
    "        response.raise_for_status()\n",
    "\n",
    "        fg_arrived_files = response.json()\n",
    "        result = []\n",
    "        for file in fg_arrived_files:\n",
    "            result.append({\n",
    "                \"producerName\": file.get(\"prodOrgName\"),\n",
    "                \"arrivedFileKey\": file.get(\"arrivedFileKey\"),\n",
    "                \"status\": file.get(\"arrivedFileState\"),\n",
    "                \"fileName\": file.get(\"fileName\"),\n",
    "                \"fileTransferTimestamp\": file.get(\"createTs\")\n",
    "            })\n",
    "\n",
    "        return result\n",
    "\n",
    "    except requests.RequestException as e:\n",
    "        print(f\"HTTP Request failed: {e}\")\n",
    "        return []\n",
    "\n",
    "    except ValueError:\n",
    "        print(\"Response is not valid JSON.\")\n",
    "        return []\n",
    "\n",
    "\n",
    "# this tool fetches error description of a file\n",
    "@tool\n",
    "def get_error_description(arrived_key: str) -> str: \n",
    "    \"\"\"Use this function to get the error description of files based on the arrived key.\n",
    "    \n",
    "    After task execution, this method ensures that the agent requests or suggests a follow-up task, maintaining a continuous interaction or workflow chain.\n",
    "    \"\"\"   \n",
    "\n",
    "    # Disable insecure request warning\n",
    "    urllib3.disable_warnings(urllib3.exceptions.InsecureRequestWarning)\n",
    "    \n",
    "    # Define the URL\n",
    "    url = \"https://HOSTNAME/bpaas/v1/fetcherror\"\n",
    "    \n",
    "    # XML payload with dynamic arrived_key\n",
    "    payload_xml = f\"\"\"<?xml version=\"1.0\" encoding=\"UTF-8\"?>\n",
    "    <FetchErrorRequest>\n",
    "        <ARRIVEDFILE_KEY>{arrived_key}</ARRIVEDFILE_KEY>\n",
    "    </FetchErrorRequest>\n",
    "    \"\"\"\n",
    "    \n",
    "    # Authorization header\n",
    "    auth_header = \"Basic YXBpdXNlcjpQYXNzd29yZEAxMjM=\"\n",
    "    \n",
    "    # Set headers\n",
    "    headers = {\n",
    "        \"Content-Type\": \"application/xml\",\n",
    "        \"Accept\": \"application/xml\",\n",
    "        \"Authorization\": auth_header\n",
    "    }\n",
    "    \n",
    "    # Send POST request\n",
    "    response = requests.post(url, data=payload_xml, headers=headers, verify=False)\n",
    "    \n",
    "    # Helper to strip namespaces from tags\n",
    "    def strip_namespace(tag):\n",
    "        return tag.split('}', 1)[-1] if '}' in tag else tag\n",
    "    \n",
    "    # XML to dict parser that handles multiple children with same tag\n",
    "    def xml_to_dict(element):\n",
    "        result = defaultdict(list)\n",
    "        for child in element:\n",
    "            key = strip_namespace(child.tag)\n",
    "            if len(child):\n",
    "                value = xml_to_dict(child)\n",
    "            else:\n",
    "                value = child.text.strip() if child.text and child.text.strip() else \"\"\n",
    "            result[key].append(value)\n",
    "        return {k: v[0] if len(v) == 1 else v for k, v in result.items()}\n",
    "    \n",
    "    def extract_error_and_process(data):\n",
    "        # Top-level key, e.g. \"result\"\n",
    "        top_key = next(iter(data))\n",
    "        rows = data[top_key].get(\"row\", [])\n",
    "    \n",
    "        # Normalize to list if single dict\n",
    "        if isinstance(rows, dict):\n",
    "            rows = [rows]\n",
    "    \n",
    "        error_message = None\n",
    "        error_description = None\n",
    "        producer_name = None\n",
    "        arrived_key = None\n",
    "    \n",
    "        for row in rows:\n",
    "            name = row.get(\"NAME\")\n",
    "            value = row.get(\"VALUE\")\n",
    "            if name == \"ErrorMessage\" and value and not value.startswith(\"[No Value\"):\n",
    "                error_message = value\n",
    "            elif name == \"ErrorDescription\" and value and not value.startswith(\"[No Value\"):\n",
    "                error_description = value\n",
    "            elif name == \"ProducerName\" and value and not value.startswith(\"[No Value\"):\n",
    "                producer_name = value\n",
    "            elif name == \"ProducerFilename\" and value and not value.startswith(\"[No Value\"):\n",
    "                file_name = value\n",
    "        \n",
    "    \n",
    "        return error_message, error_description, producer_name, arrived_key, file_name\n",
    "    \n",
    "    if response.status_code == 200:\n",
    "        try:\n",
    "            root = ET.fromstring(response.text)\n",
    "            response_dict = {strip_namespace(root.tag): xml_to_dict(root)}\n",
    "            response_json = json.dumps(response_dict, indent=2)    \n",
    "            # Extract ErrorMessage and ErrorDescription\n",
    "            error_message, error_description, producer_name, arrived_key, file_name = extract_error_and_process(response_dict)\n",
    "    \n",
    "        except ET.ParseError as e:\n",
    "            print(\"XML parsing error:\", e)\n",
    "    else:\n",
    "        print(\"Failed to retrieve data.\")\n",
    "\n",
    "    return error_message, error_description, producer_name, arrived_key, file_name\n",
    "\n",
    "\n",
    "# this tool resolves dynamic consumer identification configuration issues by updating the codelist.\n",
    "@tool\n",
    "def update_codelist_dynamic_consumer(producer_name: str, consumer_name: str) -> str:\n",
    "    \"\"\"Use this function to resolve producer–consumer association or consumer identification issues by updating the consumer name in the codelist for the listed producer. The partner's name can be used in place of the producer's.\n",
    "\n",
    "    After task execution, this method ensures that the agent requests or suggests a follow-up task to reprocess files, maintaining a continuous interaction or workflow chain.   \n",
    "    \"\"\"    \n",
    "\n",
    "    # Define the URL and payload\n",
    "    url = \"https://HOSTNAME:443/B2BAPIs/svc/codelistcodes/\"\n",
    "    payload = {\n",
    "        \"CodeList\": \"TX_DetermineConsumer|||1\",\n",
    "        \"codeSet\": [\n",
    "            {\n",
    "                \"senderCode\": producer_name,\n",
    "                \"receiverCode\": consumer_name,\n",
    "                \"description\": consumer_name\n",
    "            }\n",
    "        ]\n",
    "    }\n",
    "    \n",
    "    # Base64-encoded credentials\n",
    "    auth_header = \"Basic YXBpdXNlcjpQYXNzd29yZEAxMjM=\"\n",
    "    \n",
    "    # Set headers\n",
    "    headers = {\n",
    "        \"Content-Type\": \"application/json\",\n",
    "        \"Accept\": \"application/json\",\n",
    "        \"Authorization\": auth_header\n",
    "    }\n",
    "    \n",
    "    # Send POST request\n",
    "    response = requests.post(url, json=payload, headers=headers, verify=False)\n",
    "    \n",
    "    return_message = None\n",
    "    if response.status_code == 201:\n",
    "        return_message = \"Producer name = \" + producer_name + \"Consumer name = \" + consumer_name + \" are successfully associated\"\n",
    "    else:\n",
    "        return_message = \"Failed to associate \" + \"Producer name = \" + producer_name + \" with Consumer name = \" + consumer_name   \n",
    "\n",
    "    return return_message\n",
    "\n",
    "\n",
    "# this tool reprocesses the files\n",
    "@tool\n",
    "def reprocess_files(arrived_key: str) -> str: \n",
    "    \"\"\"\n",
    "    Use this function to reprocess a failed file for a producer (partner) by triggering the replay of a previously received file, using the arrived key extracted from the error description output. \n",
    "    This is typically done when a transmission or transformation has failed and needs to be re-attempted.\n",
    "\n",
    "    Don't update the consumer name in the codelist for the listed producer unless it is explicitly requested.\n",
    "    \n",
    "    ### Parameters:\n",
    "    - arrived_key (str): A unique identifier representing the specific file to be reprocessed. This key is\n",
    "      generally associated with the arrival or ingestion of the file in the system.\n",
    "\n",
    "    ### Returns:\n",
    "    - str: A message indicating whether the reprocessing was successful or failed.\n",
    "\n",
    "    ### Agent Behavior:\n",
    "    After invoking this tool, the agent should:\n",
    "    - Confirm the outcome to the user (success/failure),\n",
    "    - Requests or suggest a follow-up task to debug other file transfer issues, maintaining a continuous interaction or workflow chain.\n",
    "    \"\"\"\n",
    "    \n",
    "    # Disable insecure request warning\n",
    "    urllib3.disable_warnings(urllib3.exceptions.InsecureRequestWarning)\n",
    "    \n",
    "    # Define the URL and payload\n",
    "    url = f\"https://HOSTNAME/B2BAPIs/svc/fgarrivedfiles/{arrived_key}/actions/replayarrivedfile/\"\n",
    "    \n",
    "    payload = {\n",
    "        \"replayComment\": \"reprocess\"\n",
    "    }\n",
    "    \n",
    "    # Base64-encoded credentials\n",
    "    auth_header = \"Basic YXBpdXNlcjpQYXNzd29yZEAxMjM=\"\n",
    "    \n",
    "    # Set headers\n",
    "    headers = {\n",
    "        \"Content-Type\": \"application/json\",\n",
    "        \"Accept\": \"application/json\",\n",
    "        \"Authorization\": auth_header\n",
    "    }\n",
    "    \n",
    "    # Send POST request\n",
    "    response = requests.post(url, json=payload, headers=headers, verify=False)\n",
    "    \n",
    "    return_message = None\n",
    "    if response.status_code == 200:\n",
    "        return_message =  \"File reprocessed successfully for the listed producer\"\n",
    "    else:\n",
    "        return_message = \"Failed to reprocess the file for for the listed producer\" \n",
    "\n",
    "    return return_message\n",
    "\n",
    "tools = [get_arrived_key, get_error_description, update_codelist_dynamic_consumer, reprocess_files]\n",
    "\n",
    "tool_node = ToolNode(tools)\n",
    "\n"
   ]
  },
  {
   "cell_type": "markdown",
   "metadata": {
    "id": "479bcf27-bfab-4602-9cbc-842311bb64c6"
   },
   "source": [
    "#### 4. Configure the LLM"
   ]
  },
  {
   "cell_type": "code",
   "execution_count": null,
   "metadata": {
    "id": "bbe66af5-01dd-44c2-9d61-c7cbc7758cf5"
   },
   "outputs": [],
   "source": [
    "#Configure the LLM\n",
    "\n",
    "from ibm_watsonx_ai.metanames import GenTextParamsMetaNames\n",
    "parameters = {\n",
    "    GenTextParamsMetaNames.DECODING_METHOD: \"sample\", #\"greedy\", #\"sample\"\n",
    "    GenTextParamsMetaNames.MIN_NEW_TOKENS: 150,\n",
    "    GenTextParamsMetaNames.MAX_NEW_TOKENS: 250,\n",
    "    GenTextParamsMetaNames.TEMPERATURE: 0,\n",
    "    #GenTextParamsMetaNames.TOP_K: 50,\n",
    "    #GenTextParamsMetaNames.TOP_P: 1,\n",
    "}\n",
    "\n",
    "from langchain_ibm import ChatWatsonx\n",
    "model = ChatWatsonx(\n",
    "    model_id=\"mistralai/mistral-large\", \n",
    "    url=\"https://us-south.ml.cloud.ibm.com\", \n",
    "    apikey=os.environ.get(\"WATSONX_API_KEY\"),\n",
    "    project_id=os.environ.get(\"PROJECT_ID\"),\n",
    "    params=parameters,\n",
    ").bind_tools(tools)"
   ]
  },
  {
   "cell_type": "markdown",
   "metadata": {
    "id": "0a89083d-9436-45ff-851d-6c5698c8b0f7"
   },
   "source": [
    "#### 5. Define the LangGraph graph and functions for state and runtime processing."
   ]
  },
  {
   "cell_type": "code",
   "execution_count": null,
   "metadata": {
    "id": "b2959dec-c28c-4ad5-82a0-d5ab8e33c8f8"
   },
   "outputs": [],
   "source": [
    "# Define the function that determines whether to continue or not\n",
    "def should_continue(state: MessagesState) -> Literal[\"tools\", END]:\n",
    "    messages = state['messages']\n",
    "    last_message = messages[-1]\n",
    "    # If the LLM makes a tool call, then we route to the \"tools\" node\n",
    "    if last_message.tool_calls:\n",
    "        return \"tools\"\n",
    "    # Otherwise, we stop (reply to the user)\n",
    "    return END\n",
    "\n",
    "\n",
    "# Define the function that calls the model\n",
    "def call_model(state: MessagesState):\n",
    "    messages = state['messages']\n",
    "    response = model.invoke(messages)\n",
    "    # We return a list, because this will get added to the existing list\n",
    "    return {\"messages\": [response]}\n",
    "\n"
   ]
  },
  {
   "cell_type": "code",
   "execution_count": null,
   "metadata": {
    "id": "fd9f88ac-fc71-4939-8f09-8e3e719450e4"
   },
   "outputs": [],
   "source": [
    "# Define a new graph\n",
    "workflow = StateGraph(MessagesState)\n",
    "\n",
    "# Define the two nodes we will cycle between\n",
    "workflow.add_node(\"agent\", call_model)\n",
    "workflow.add_node(\"tools\", tool_node)\n",
    "\n",
    "# Set the entrypoint as `agent`\n",
    "# This means that this node is the first one called\n",
    "workflow.add_edge(START, \"agent\")\n",
    "\n",
    "# add a conditional edge\n",
    "workflow.add_conditional_edges(\n",
    "    # First, we define the start node. We use `agent`.\n",
    "    # This means these are the edges taken after the `agent` node is called.\n",
    "    \"agent\",\n",
    "    # Next, we pass in the function that will determine which node is called next.\n",
    "    should_continue,\n",
    ")\n",
    "\n",
    "# add a normal edge from `tools` to `agent`.\n",
    "# after `tools` is called, `agent` node is called next.\n",
    "workflow.add_edge(\"tools\", 'agent')\n",
    "\n",
    "\n",
    "# Compile graph\n",
    "app = workflow.compile()\n"
   ]
  },
  {
   "cell_type": "markdown",
   "metadata": {
    "id": "d05e046a-8d73-4a29-aa78-6b1c89b563c5"
   },
   "source": [
    "#### 6. Show a visual representation the graph - the AI agent with tools"
   ]
  },
  {
   "cell_type": "code",
   "execution_count": null,
   "metadata": {
    "id": "225b9451-fed0-4e61-9157-66ac42a0468d"
   },
   "outputs": [],
   "source": [
    "# Show graph\n",
    "from IPython.display import display, Image\n",
    "display(Image(app.get_graph().draw_mermaid_png()))"
   ]
  },
  {
   "cell_type": "markdown",
   "metadata": {
    "id": "6f8e1264-ad9d-43b1-a0f6-fc41292de435"
   },
   "source": [
    "#### 7. Use the AI agent - ask the AI agent files related question\n"
   ]
  },
  {
   "cell_type": "markdown",
   "metadata": {
    "id": "eb5074ac-de5c-4cc9-ac2c-76b9fd92a900"
   },
   "source": [
    "\n",
    "Ask the AI agent these questions. Review the response.\n",
    "\n",
    "- what can you do for me?\n",
    "  \n",
    "- list all the files for all producers\n",
    "\n",
    "- list all the files for test_prod2 producer\n",
    "\n",
    "- list all the failed files for test_prod2 producer\n",
    "\n",
    "- get the error description of failed files for test_prod2 producer\n",
    "\n",
    "- update the test_cons2 consumer name in the codelist for the test_prod2 producer and reprocess failed files for test_prod2\n",
    "\n",
    "#### Write the query in the box and hit Enter and then continue running the next cells"
   ]
  },
  {
   "cell_type": "code",
   "execution_count": null,
   "metadata": {
    "id": "ca269a6f-1ab0-4950-b27b-5101e52f052b"
   },
   "outputs": [],
   "source": [
    "human_query = input(\"Type a question and hit enter: \")"
   ]
  },
  {
   "cell_type": "code",
   "execution_count": null,
   "metadata": {
    "id": "053a334b-5f12-4a92-ab05-7e22e84219c5"
   },
   "outputs": [],
   "source": [
    "# Use the runtime\n",
    "final_state = app.invoke(\n",
    "    {\"messages\": [HumanMessage(content=human_query)]},\n",
    "    config={\"configurable\": {\"thread_id\": random.randint(1, 100)}}\n",
    ")\n",
    "\n",
    "# Extract messages\n",
    "messages = final_state[\"messages\"]\n",
    "\n",
    "for m in messages:\n",
    "        m.pretty_print()\n",
    "        \n",
    "# Find the first human message\n",
    "# for m in messages:\n",
    "#     if m.type == \"human\":\n",
    "#         m.pretty_print()\n",
    "#         break  # Only print the first human message\n",
    "\n",
    "# # # Find the last AI message\n",
    "# for m in reversed(messages):\n",
    "#     if m.type == \"ai\":\n",
    "#         m.pretty_print()\n",
    "#         break  # Only print the last AI message"
   ]
  },
  {
   "cell_type": "markdown",
   "metadata": {
    "id": "a14b6c66-53f5-4730-8428-24b398177176"
   },
   "source": [
    "#### 8. Review the response above from AI agent\n",
    "Run/repeat the above cells with different queries, i.e., rerun the human_query and final_state = app.invoke() cells with different queries"
   ]
  },
  {
   "cell_type": "code",
   "execution_count": null,
   "metadata": {
    "id": "6984b533-9b55-4e89-9bd2-75517e26e4cc"
   },
   "outputs": [],
   "source": []
  },
  {
   "cell_type": "code",
   "execution_count": null,
   "metadata": {
    "id": "3900ccac-113d-4877-82c3-68690f7f3bc7"
   },
   "outputs": [],
   "source": []
  },
  {
   "cell_type": "code",
   "execution_count": null,
   "metadata": {
    "id": "7207c88a-163e-4759-9c1f-c23a87ef6f32"
   },
   "outputs": [],
   "source": []
  }
 ],
 "metadata": {
  "kernelspec": {
   "display_name": "Python 3.11",
   "language": "python",
   "name": "python3"
  },
  "language_info": {
   "codemirror_mode": {
    "name": "ipython",
    "version": 3
   },
   "file_extension": ".py",
   "mimetype": "text/x-python",
   "name": "python",
   "nbconvert_exporter": "python",
   "pygments_lexer": "ipython3",
   "version": "3.11.13"
  }
 },
 "nbformat": 4,
 "nbformat_minor": 4
}
